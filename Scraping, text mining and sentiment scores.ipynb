{
 "cells": [
  {
   "cell_type": "markdown",
   "metadata": {},
   "source": [
    "## Text mining with Python - from scraping news to sentiment scores"
   ]
  },
  {
   "cell_type": "markdown",
   "metadata": {},
   "source": [
    "### Dependencies"
   ]
  },
  {
   "cell_type": "code",
   "execution_count": 3,
   "metadata": {},
   "outputs": [
    {
     "name": "stderr",
     "output_type": "stream",
     "text": [
      "[nltk_data] Downloading package vader_lexicon to\n",
      "[nltk_data]     /Users/marceldietsch/nltk_data...\n",
      "[nltk_data]   Package vader_lexicon is already up-to-date!\n"
     ]
    }
   ],
   "source": [
    "import re\n",
    "import csv\n",
    "import pickle\n",
    "import time\n",
    "import pprint\n",
    "from collections import Counter\n",
    "from datetime import datetime, timedelta\n",
    "from urllib.request import urlopen\n",
    "\n",
    "from bs4 import BeautifulSoup  \n",
    "\n",
    "import pandas as pd\n",
    "\n",
    "import matplotlib.pyplot as plt\n",
    "import seaborn as sns\n",
    "\n",
    "from textblob import TextBlob\n",
    "\n",
    "import spacy\n",
    "# only run line 20 if language model has not been pre-installed\n",
    "# !python -m spacy download en_core_web_lg\n",
    "spacy_nlp = spacy.load('en_core_web_md')\n",
    "from spacy import displacy\n",
    "from spacy.lang.en.stop_words import STOP_WORDS\n",
    "spacy.prefer_gpu()\n",
    "\n",
    "import nltk\n",
    "from nltk.sentiment.vader import SentimentIntensityAnalyzer\n",
    "from nltk.tag.perceptron import PerceptronTagger\n",
    "from nltk.corpus import wordnet as wn\n",
    "from nltk.corpus import sentiwordnet as swn\n",
    "nltk.download('vader_lexicon')\n",
    "sia = SentimentIntensityAnalyzer()\n",
    "\n",
    "from dictionaries import lexicon, negate \n",
    "# line 35 imports our proprietary sentiment algorithm\n",
    "from sentiment_algos import proprietary_sentiment_normalised\n",
    "\n",
    "from yellowbrick.text import FreqDistVisualizer\n",
    "from sklearn.feature_extraction.text import CountVectorizer, TfidfVectorizer\n",
    "\n",
    "import warnings\n",
    "warnings.filterwarnings('ignore')"
   ]
  },
  {
   "cell_type": "markdown",
   "metadata": {},
   "source": [
    "### Scraping news articles and calculating sentiment \n",
    "- any news article related to the company \"Shell\"\n",
    "- source: Singapore Business Times\n",
    "- use out-of-the-box sentiment libraries (NLTK, Textblob) and my proprietary one"
   ]
  },
  {
   "cell_type": "code",
   "execution_count": 8,
   "metadata": {},
   "outputs": [],
   "source": [
    "def scraper(keyword):\n",
    "    \"\"\"\n",
    "    takes search term for Business Times (Singapore) news articles, \n",
    "    runs scraper through 10 pages of the archive and\n",
    "    returns dictionary with date (key) and article (value)\n",
    "    \"\"\"\n",
    "    \n",
    "    date_sentiments = {}\n",
    "    article_text = {}\n",
    "    counter = 1\n",
    "\n",
    "    for i in range(1,9):\n",
    "        \n",
    "        page = urlopen('https://www.businesstimes.com.sg/search/'+ keyword +'?page='+str(i)).read()\n",
    "        soup = BeautifulSoup(page, features=\"html.parser\")\n",
    "        posts = soup.findAll(\"div\", {\"class\": \"media-body\"})\n",
    "        \n",
    "        for post in posts:\n",
    "            \n",
    "            time.sleep(2)\n",
    "            url = post.a['href']\n",
    "            date = post.time.text\n",
    "            print(\"Article:\", counter, \"from:\", date, \" URL:\", url[:60] + \"...\")\n",
    "            counter += 1\n",
    "            \n",
    "            try:\n",
    "                link_page = urlopen(url).read()\n",
    "            except:\n",
    "                url = url[:-2]\n",
    "                link_page = urlopen(url).read()\n",
    "                \n",
    "            link_soup = BeautifulSoup(link_page)\n",
    "            sentences = link_soup.findAll(\"p\")\n",
    "            passage = \"\"\n",
    "            \n",
    "            for sentence in sentences:\n",
    "                passage += sentence.text\n",
    "            \n",
    "            article_text.setdefault(date, []).append(passage)\n",
    "\n",
    "    articles = {}\n",
    "    \n",
    "    for k,v in article_text.items():\n",
    "        articles[datetime.strptime(k, '%d %b %Y').date() + timedelta(days=1)] = v \n",
    "    \n",
    "    return articles"
   ]
  },
  {
   "cell_type": "code",
   "execution_count": 9,
   "metadata": {},
   "outputs": [
    {
     "name": "stdout",
     "output_type": "stream",
     "text": [
      "Article: 1 from: 15 Jul 2019  URL: https://www.businesstimes.com.sg/energy-commodities/shell-re...\n",
      "Article: 2 from: 12 Jun 2019  URL: https://www.businesstimes.com.sg/energy-commodities/shell-sh...\n",
      "Article: 3 from: 08 Jun 2019  URL: https://www.businesstimes.com.sg/energy-commodities/shell-ex...\n",
      "Article: 4 from: 07 Jun 2019  URL: https://www.businesstimes.com.sg/energy-commodities/shell-bo...\n",
      "Article: 5 from: 29 May 2019  URL: https://www.businesstimes.com.sg/energy-commodities/ema-psa-...\n",
      "Article: 6 from: 28 May 2019  URL: https://www.businesstimes.com.sg/energy-commodities/ema-stri...\n",
      "Article: 7 from: 24 May 2019  URL: https://www.businesstimes.com.sg/energy-commodities/shell-se...\n",
      "Article: 8 from: 21 May 2019  URL: https://www.businesstimes.com.sg/energy-commodities/activist...\n",
      "Article: 9 from: 09 May 2019  URL: https://www.businesstimes.com.sg/energy-commodities/shell-to...\n",
      "Article: 10 from: 03 May 2019  URL: https://www.businesstimes.com.sg/energy-commodities/shell-pu...\n",
      "Article: 11 from: 12 Apr 2019  URL: https://www.businesstimes.com.sg/energy-commodities/shell-se...\n",
      "Article: 12 from: 08 Apr 2019  URL: https://www.businesstimes.com.sg/energy-commodities/shell-st...\n",
      "Article: 13 from: 08 Apr 2019  URL: https://www.businesstimes.com.sg/energy-commodities/sinopec-...\n",
      "Article: 14 from: 04 Apr 2019  URL: https://www.businesstimes.com.sg/energy-commodities/citing-c...\n",
      "Article: 15 from: 03 Apr 2019  URL: https://www.businesstimes.com.sg/energy-commodities/citing-c...\n",
      "Article: 16 from: 29 Mar 2019  URL: https://www.businesstimes.com.sg/energy-commodities/shell-of...\n",
      "Article: 17 from: 28 Mar 2019  URL: https://www.businesstimes.com.sg/energy-commodities/shell-sw...\n",
      "Article: 18 from: 15 Mar 2019  URL: https://www.businesstimes.com.sg/energy-commodities/shell-se...\n",
      "Article: 19 from: 14 Mar 2019  URL: https://www.businesstimes.com.sg/banking-finance/shell-ceos-...\n",
      "Article: 20 from: 12 Mar 2019  URL: https://www.businesstimes.com.sg/life-culture/money-fm-podca...\n",
      "Article: 21 from: 01 Mar 2019  URL: https://www.businesstimes.com.sg/energy-commodities/shell-pe...\n",
      "Article: 22 from: 22 Feb 2019  URL: https://www.businesstimes.com.sg/energy-commodities/shell-pe...\n",
      "Article: 23 from: 21 Feb 2019  URL: https://www.businesstimes.com.sg/energy-commodities/shell-pe...\n",
      "Article: 24 from: 18 Feb 2019  URL: https://www.businesstimes.com.sg/energy-commodities/shell-se...\n",
      "Article: 25 from: 01 Feb 2019  URL: https://www.businesstimes.com.sg/energy-commodities/shells-2...\n",
      "Article: 26 from: 31 Jan 2019  URL: https://www.businesstimes.com.sg/energy-commodities/shells-2...\n",
      "Article: 27 from: 22 Jan 2019  URL: https://www.businesstimes.com.sg/energy-commodities/usw-and-...\n",
      "Article: 28 from: 21 Dec 2018  URL: https://www.businesstimes.com.sg/energy-commodities/shell-qu...\n",
      "Article: 29 from: 20 Dec 2018  URL: https://www.businesstimes.com.sg/technology/shell-takes-49-p...\n",
      "Article: 30 from: 15 Dec 2018  URL: https://www.businesstimes.com.sg/companies-markets/scale-of-...\n",
      "Article: 31 from: 13 Dec 2018  URL: https://www.businesstimes.com.sg/companies-markets/shell-app...\n",
      "Article: 32 from: 12 Dec 2018  URL: https://www.businesstimes.com.sg/companies-markets/shell-sin...\n",
      "Article: 33 from: 28 Nov 2018  URL: https://www.businesstimes.com.sg/transport/shell-positions-i...\n",
      "Article: 34 from: 12 Nov 2018  URL: https://www.businesstimes.com.sg/consumer/shell-adds-local-f...\n",
      "Article: 35 from: 01 Nov 2018  URL: https://www.businesstimes.com.sg/energy-commodities/shell-pr...\n",
      "Article: 36 from: 19 Oct 2018  URL: https://www.businesstimes.com.sg/companies-markets/sia-price...\n",
      "Article: 37 from: 17 Oct 2018  URL: https://www.businesstimes.com.sg/real-estate/buyers-willing-...\n",
      "Article: 38 from: 04 Oct 2018  URL: https://www.businesstimes.com.sg/energy-commodities/looming-...\n",
      "Article: 39 from: 03 Oct 2018  URL: https://www.businesstimes.com.sg/energy-commodities/looming-...\n",
      "Article: 40 from: 03 Oct 2018  URL: https://www.businesstimes.com.sg/energy-commodities/shell-pa...\n",
      "Article: 41 from: 02 Oct 2018  URL: https://www.businesstimes.com.sg/energy-commodities/shell-sa...\n",
      "Article: 42 from: 02 Oct 2018  URL: https://www.businesstimes.com.sg/energy-commodities/shell-pa...\n",
      "Article: 43 from: 05 Sep 2018  URL: https://www.businesstimes.com.sg/energy-commodities/shell-in...\n",
      "Article: 44 from: 21 Jul 2018  URL: https://www.businesstimes.com.sg/energy-commodities/shell%C2...\n",
      "Article: 45 from: 12 Jul 2018  URL: https://www.businesstimes.com.sg/energy-commodities/oil-stri...\n",
      "Article: 46 from: 11 Jul 2018  URL: https://www.businesstimes.com.sg/energy-commodities/oil-stri...\n",
      "Article: 47 from: 11 Jul 2018  URL: https://www.businesstimes.com.sg/energy-commodities/hundreds...\n",
      "Article: 48 from: 10 Jul 2018  URL: https://www.businesstimes.com.sg/energy-commodities/japanese...\n",
      "Article: 49 from: 21 May 2018  URL: https://www.businesstimes.com.sg/companies-markets/sembmarin...\n",
      "Article: 50 from: 27 Apr 2018  URL: http://www.businesstimes.com.sg/energy-commodities/shell-pro...\n",
      "Article: 51 from: 17 Apr 2018  URL: http://www.businesstimes.com.sg/real-estate/in-silicon-valle...\n",
      "Article: 52 from: 13 Apr 2018  URL: http://www.businesstimes.com.sg/energy-commodities/shell-ask...\n",
      "Article: 53 from: 27 Mar 2018  URL: http://www.businesstimes.com.sg/energy-commodities/shell-pla...\n",
      "Article: 54 from: 26 Mar 2018  URL: http://www.businesstimes.com.sg/government-economy/shell-say...\n",
      "Article: 55 from: 21 Mar 2018  URL: http://www.businesstimes.com.sg/energy-commodities/shell-bet...\n",
      "Article: 56 from: 10 Mar 2018  URL: http://www.businesstimes.com.sg/energy-commodities/shell-wai...\n",
      "Article: 57 from: 09 Mar 2018  URL: http://www.businesstimes.com.sg/energy-commodities/oil-is-he...\n",
      "Article: 58 from: 05 Mar 2018  URL: http://www.businesstimes.com.sg/energy-commodities/eni-and-s...\n",
      "Article: 59 from: 02 Feb 2018  URL: http://www.businesstimes.com.sg/energy-commodities/shells-be...\n",
      "Article: 60 from: 01 Feb 2018  URL: http://www.businesstimes.com.sg/energy-commodities/shells-be...\n",
      "Article: 61 from: 26 Jan 2018  URL: http://www.businesstimes.com.sg/energy-commodities/shell-spe...\n",
      "Article: 62 from: 18 Jan 2018  URL: http://www.businesstimes.com.sg/energy-commodities/shell-and...\n",
      "Article: 63 from: 17 Jan 2018  URL: http://www.businesstimes.com.sg/energy-commodities/shell-ven...\n",
      "Article: 64 from: 16 Jan 2018  URL: http://www.businesstimes.com.sg/energy-commodities/shell-ven...\n",
      "Article: 65 from: 15 Jan 2018  URL: http://www.businesstimes.com.sg/energy-commodities/shell-oks...\n",
      "Article: 66 from: 13 Jan 2018  URL: http://www.businesstimes.com.sg/government-economy/singapore...\n",
      "Article: 67 from: 10 Jan 2018  URL: http://www.businesstimes.com.sg/government-economy/millions-...\n",
      "Article: 68 from: 09 Jan 2018  URL: http://www.businesstimes.com.sg/energy-commodities/11-men-ch...\n",
      "Article: 69 from: 09 Jan 2018  URL: http://www.businesstimes.com.sg/energy-commodities/17-arrest...\n",
      "Article: 70 from: 08 Jan 2018  URL: http://www.businesstimes.com.sg/energy-commodities/shell-sel...\n",
      "Article: 71 from: 30 Dec 2017  URL: http://www.businesstimes.com.sg/real-estate/us-home-values-s...\n",
      "Article: 72 from: 20 Dec 2017  URL: http://www.businesstimes.com.sg/energy-commodities/japans-id...\n",
      "Article: 73 from: 20 Dec 2017  URL: http://www.businesstimes.com.sg/energy-commodities/as-shell-...\n",
      "Article: 74 from: 11 Dec 2017  URL: http://www.businesstimes.com.sg/energy-commodities/fire-brea...\n",
      "Article: 75 from: 08 Dec 2017  URL: http://www.businesstimes.com.sg/opinion/reducing-carbon-foot...\n",
      "Article: 76 from: 05 Dec 2017  URL: http://www.businesstimes.com.sg/companies-markets/sembmarine...\n",
      "Article: 77 from: 01 Dec 2017  URL: http://www.businesstimes.com.sg/companies-markets/gear-shell...\n",
      "Article: 78 from: 30 Nov 2017  URL: http://www.businesstimes.com.sg/companies-markets/golden-ene...\n",
      "Article: 79 from: 30 Nov 2017  URL: http://www.businesstimes.com.sg/energy-commodities/shell-cal...\n",
      "Article: 80 from: 29 Nov 2017  URL: http://www.businesstimes.com.sg/stocks/europe-britains-ftse-...\n"
     ]
    }
   ],
   "source": [
    "articles = scraper(\"shell\")"
   ]
  },
  {
   "cell_type": "code",
   "execution_count": 36,
   "metadata": {},
   "outputs": [],
   "source": [
    "df = pd.DataFrame.from_dict(articles, columns=['1', '2'], orient='index')\n",
    "df['content'] = df['1'] + ' ' + df['2'].fillna('')\n",
    "df.drop(columns=['1', '2'], inplace=True)"
   ]
  },
  {
   "cell_type": "code",
   "execution_count": 37,
   "metadata": {},
   "outputs": [],
   "source": [
    "f = open('data/df.pkl', 'wb')\n",
    "pickle.dump(df, f)\n",
    "f.close()"
   ]
  },
  {
   "cell_type": "code",
   "execution_count": 38,
   "metadata": {},
   "outputs": [
    {
     "data": {
      "text/html": [
       "<div>\n",
       "<style scoped>\n",
       "    .dataframe tbody tr th:only-of-type {\n",
       "        vertical-align: middle;\n",
       "    }\n",
       "\n",
       "    .dataframe tbody tr th {\n",
       "        vertical-align: top;\n",
       "    }\n",
       "\n",
       "    .dataframe thead th {\n",
       "        text-align: right;\n",
       "    }\n",
       "</style>\n",
       "<table border=\"1\" class=\"dataframe\">\n",
       "  <thead>\n",
       "    <tr style=\"text-align: right;\">\n",
       "      <th></th>\n",
       "      <th>content</th>\n",
       "    </tr>\n",
       "  </thead>\n",
       "  <tbody>\n",
       "    <tr>\n",
       "      <th>2019-07-16</th>\n",
       "      <td>[SINGAPORE] A unit at Royal Dutch Shell's Pulau Bukom refinery and petrochemical complex experienced an op...</td>\n",
       "    </tr>\n",
       "    <tr>\n",
       "      <th>2019-06-13</th>\n",
       "      <td>MelbourneROYAL Dutch Shell on Monday shipped the long-awaited first cargo of liquefied natural gas (LNG) f...</td>\n",
       "    </tr>\n",
       "    <tr>\n",
       "      <th>2019-06-09</th>\n",
       "      <td>SingaporeSHELL has increased the storage capacity at its Singapore Bukom refinery by nearly 1.3 million ba...</td>\n",
       "    </tr>\n",
       "    <tr>\n",
       "      <th>2019-06-08</th>\n",
       "      <td>SHELL said on Thursday night that it has increased the storage capacity at its Singapore Bukom refinery by...</td>\n",
       "    </tr>\n",
       "    <tr>\n",
       "      <th>2019-05-30</th>\n",
       "      <td>SingaporeSINGAPORE'S Energy Market Authority (EMA) on Tuesday said it is partnering PSA Singapore and Shel...</td>\n",
       "    </tr>\n",
       "  </tbody>\n",
       "</table>\n",
       "</div>"
      ],
      "text/plain": [
       "                                                                                                                  content\n",
       "2019-07-16  [SINGAPORE] A unit at Royal Dutch Shell's Pulau Bukom refinery and petrochemical complex experienced an op...\n",
       "2019-06-13  MelbourneROYAL Dutch Shell on Monday shipped the long-awaited first cargo of liquefied natural gas (LNG) f...\n",
       "2019-06-09  SingaporeSHELL has increased the storage capacity at its Singapore Bukom refinery by nearly 1.3 million ba...\n",
       "2019-06-08  SHELL said on Thursday night that it has increased the storage capacity at its Singapore Bukom refinery by...\n",
       "2019-05-30  SingaporeSINGAPORE'S Energy Market Authority (EMA) on Tuesday said it is partnering PSA Singapore and Shel..."
      ]
     },
     "execution_count": 38,
     "metadata": {},
     "output_type": "execute_result"
    }
   ],
   "source": [
    "pd.options.display.max_colwidth = 110\n",
    "df.head(5)"
   ]
  },
  {
   "cell_type": "markdown",
   "metadata": {},
   "source": [
    "### Take one article and show NLP tools on this example"
   ]
  },
  {
   "cell_type": "code",
   "execution_count": 39,
   "metadata": {},
   "outputs": [
    {
     "data": {
      "text/plain": [
       "['tagger', 'parser', 'ner']"
      ]
     },
     "execution_count": 39,
     "metadata": {},
     "output_type": "execute_result"
    }
   ],
   "source": [
    "spacy_nlp.pipe_names"
   ]
  },
  {
   "cell_type": "code",
   "execution_count": 40,
   "metadata": {},
   "outputs": [
    {
     "name": "stdout",
     "output_type": "stream",
     "text": [
      "[SINGAPORE] A unit at Royal Dutch Shell's Pulau Bukom refinery and petrochemical complex experienced an operational upset on Sunday, a company spokeswoman told Reuters on Monday.\"On July 14 at approximately 2pm, the Pulau Bukom manufacturing site experienced an operational upset at one of its units, which has resulted in flaring,\" she said.\"No injuries have been reported and the relevant authorities have been notified,\" she said, adding that the rest of the site's operations had not been affected.It was not immediately clear which unit was down. The spokeswoman declined to provide details of the unit citing commercial confidentiality reasons.The Pulau Bukom manufacturing site is an integrated refinery and chemicals site and can process up to 500,000 barrels per day of oil.Bukom is Shell's largest wholly-owned refinery globally in terms of crude distillation capacity, according to the company website.Typically, any unexpected outage at the refinery boosts margins for Asian oil products.REUTERSSPH Digital News© 2019 SINGAPORE PRESS HOLDINGS LTD. REGN NO. 198402668E \n"
     ]
    }
   ],
   "source": [
    "sample = df.iloc[0]['content']\n",
    "print(sample)"
   ]
  },
  {
   "cell_type": "code",
   "execution_count": 41,
   "metadata": {},
   "outputs": [],
   "source": [
    "doc = spacy_nlp(sample)"
   ]
  },
  {
   "cell_type": "markdown",
   "metadata": {},
   "source": [
    "#### Show tokens, lemmatised tokens with stopword removal"
   ]
  },
  {
   "cell_type": "code",
   "execution_count": 42,
   "metadata": {},
   "outputs": [
    {
     "name": "stdout",
     "output_type": "stream",
     "text": [
      "['[', 'SINGAPORE', ']', 'A', 'unit', 'at', 'Royal', 'Dutch', 'Shell', \"'s\", 'Pulau', 'Bukom', 'refinery', 'and', 'petrochemical', 'complex', 'experienced', 'an', 'operational', 'upset', 'on', 'Sunday', ',', 'a', 'company']\n"
     ]
    }
   ],
   "source": [
    "tokens = [token.text for token in doc]\n",
    "print(tokens[:25])"
   ]
  },
  {
   "cell_type": "code",
   "execution_count": 43,
   "metadata": {},
   "outputs": [
    {
     "name": "stdout",
     "output_type": "stream",
     "text": [
      "['[', 'SINGAPORE', ']', 'unit', 'Royal', 'Dutch', 'Shell', 'Pulau', 'Bukom', 'refinery', 'petrochemical', 'complex', 'experience', 'operational', 'upset', 'Sunday', ',', 'company', 'spokeswoman', 'tell', 'Reuters', 'Monday.\"On', 'July', '14', 'approximately']\n"
     ]
    }
   ],
   "source": [
    "tokens = [token.lemma_ for token in doc if not token.is_stop]\n",
    "print(tokens[:25])"
   ]
  },
  {
   "cell_type": "markdown",
   "metadata": {},
   "source": [
    "#### Show extracted noun chunks, document split into sentences and named-entity recognition"
   ]
  },
  {
   "cell_type": "code",
   "execution_count": 44,
   "metadata": {},
   "outputs": [
    {
     "name": "stdout",
     "output_type": "stream",
     "text": [
      "['petrochemical complex', 'an operational upset', 'Sunday', 'a company spokeswoman', 'Reuters', 'Monday.\"On July', 'approximately 2pm', 'the Pulau Bukom manufacturing site', 'an operational upset', 'its units', '\" she', 'the relevant authorities']\n"
     ]
    }
   ],
   "source": [
    "chunks = [chunk.text for chunk in doc.noun_chunks]\n",
    "print(chunks[3:15])"
   ]
  },
  {
   "cell_type": "code",
   "execution_count": 45,
   "metadata": {},
   "outputs": [
    {
     "name": "stdout",
     "output_type": "stream",
     "text": [
      "['[SINGAPORE]',\n",
      " \"A unit at Royal Dutch Shell's Pulau Bukom refinery and petrochemical complex \"\n",
      " 'experienced an operational upset on Sunday, a company spokeswoman told '\n",
      " 'Reuters on Monday.\"On July 14 at approximately 2pm, the Pulau Bukom '\n",
      " 'manufacturing site experienced an operational upset at one of its units, '\n",
      " 'which has resulted in flaring,\" she said.\"No injuries have been reported and '\n",
      " 'the relevant authorities have been notified,\" she said, adding that the rest '\n",
      " \"of the site's operations had not been affected.\",\n",
      " 'It was not immediately clear which unit was down.']\n"
     ]
    }
   ],
   "source": [
    "sentences = [sent.string.strip() for sent in doc.sents]\n",
    "pprint.pprint(sentences[:3])"
   ]
  },
  {
   "cell_type": "code",
   "execution_count": 46,
   "metadata": {},
   "outputs": [
    {
     "data": {
      "text/plain": [
       "[('SINGAPORE', 'GPE', 'Countries, cities, states'),\n",
       " (\"Royal Dutch Shell's\", 'ORG', 'Companies, agencies, institutions, etc.'),\n",
       " ('Pulau Bukom', 'ORG', 'Companies, agencies, institutions, etc.'),\n",
       " ('Sunday', 'DATE', 'Absolute or relative dates or periods'),\n",
       " ('Reuters', 'ORG', 'Companies, agencies, institutions, etc.'),\n",
       " ('July 14', 'DATE', 'Absolute or relative dates or periods'),\n",
       " ('approximately 2pm', 'TIME', 'Times smaller than a day'),\n",
       " ('Pulau Bukom', 'ORG', 'Companies, agencies, institutions, etc.'),\n",
       " ('one', 'CARDINAL', 'Numerals that do not fall under another type'),\n",
       " ('Pulau Bukom', 'ORG', 'Companies, agencies, institutions, etc.')]"
      ]
     },
     "execution_count": 46,
     "metadata": {},
     "output_type": "execute_result"
    }
   ],
   "source": [
    "NER_labels = [(X.text, X.label_, spacy.explain(X.label_)) for X in doc.ents]\n",
    "NER_labels[:10]"
   ]
  },
  {
   "cell_type": "code",
   "execution_count": 47,
   "metadata": {},
   "outputs": [
    {
     "data": {
      "text/html": [
       "<div class=\"entities\" style=\"line-height: 2.5; direction: ltr\">['[SINGAPORE]', 'A unit at \n",
       "<mark class=\"entity\" style=\"background: #7aecec; padding: 0.45em 0.6em; margin: 0 0.25em; line-height: 1; border-radius: 0.35em; box-decoration-break: clone; -webkit-box-decoration-break: clone\">\n",
       "    Royal Dutch Shell\\'s\n",
       "    <span style=\"font-size: 0.8em; font-weight: bold; line-height: 1; border-radius: 0.35em; text-transform: uppercase; vertical-align: middle; margin-left: 0.5rem\">ORG</span>\n",
       "</mark>\n",
       " \n",
       "<mark class=\"entity\" style=\"background: #ddd; padding: 0.45em 0.6em; margin: 0 0.25em; line-height: 1; border-radius: 0.35em; box-decoration-break: clone; -webkit-box-decoration-break: clone\">\n",
       "    Pulau Bukom\n",
       "    <span style=\"font-size: 0.8em; font-weight: bold; line-height: 1; border-radius: 0.35em; text-transform: uppercase; vertical-align: middle; margin-left: 0.5rem\">FAC</span>\n",
       "</mark>\n",
       " refinery and petrochemical complex experienced an operational upset on \n",
       "<mark class=\"entity\" style=\"background: #bfe1d9; padding: 0.45em 0.6em; margin: 0 0.25em; line-height: 1; border-radius: 0.35em; box-decoration-break: clone; -webkit-box-decoration-break: clone\">\n",
       "    Sunday\n",
       "    <span style=\"font-size: 0.8em; font-weight: bold; line-height: 1; border-radius: 0.35em; text-transform: uppercase; vertical-align: middle; margin-left: 0.5rem\">DATE</span>\n",
       "</mark>\n",
       ", a company spokeswoman told \n",
       "<mark class=\"entity\" style=\"background: #7aecec; padding: 0.45em 0.6em; margin: 0 0.25em; line-height: 1; border-radius: 0.35em; box-decoration-break: clone; -webkit-box-decoration-break: clone\">\n",
       "    Reuters\n",
       "    <span style=\"font-size: 0.8em; font-weight: bold; line-height: 1; border-radius: 0.35em; text-transform: uppercase; vertical-align: middle; margin-left: 0.5rem\">ORG</span>\n",
       "</mark>\n",
       " on Monday.&quot;On \n",
       "<mark class=\"entity\" style=\"background: #bfe1d9; padding: 0.45em 0.6em; margin: 0 0.25em; line-height: 1; border-radius: 0.35em; box-decoration-break: clone; -webkit-box-decoration-break: clone\">\n",
       "    July 14\n",
       "    <span style=\"font-size: 0.8em; font-weight: bold; line-height: 1; border-radius: 0.35em; text-transform: uppercase; vertical-align: middle; margin-left: 0.5rem\">DATE</span>\n",
       "</mark>\n",
       " at \n",
       "<mark class=\"entity\" style=\"background: #bfe1d9; padding: 0.45em 0.6em; margin: 0 0.25em; line-height: 1; border-radius: 0.35em; box-decoration-break: clone; -webkit-box-decoration-break: clone\">\n",
       "    approximately 2pm\n",
       "    <span style=\"font-size: 0.8em; font-weight: bold; line-height: 1; border-radius: 0.35em; text-transform: uppercase; vertical-align: middle; margin-left: 0.5rem\">TIME</span>\n",
       "</mark>\n",
       ", the \n",
       "<mark class=\"entity\" style=\"background: #7aecec; padding: 0.45em 0.6em; margin: 0 0.25em; line-height: 1; border-radius: 0.35em; box-decoration-break: clone; -webkit-box-decoration-break: clone\">\n",
       "    Pulau Bukom\n",
       "    <span style=\"font-size: 0.8em; font-weight: bold; line-height: 1; border-radius: 0.35em; text-transform: uppercase; vertical-align: middle; margin-left: 0.5rem\">ORG</span>\n",
       "</mark>\n",
       " manufacturing site experienced an operational upset at \n",
       "<mark class=\"entity\" style=\"background: #e4e7d2; padding: 0.45em 0.6em; margin: 0 0.25em; line-height: 1; border-radius: 0.35em; box-decoration-break: clone; -webkit-box-decoration-break: clone\">\n",
       "    one\n",
       "    <span style=\"font-size: 0.8em; font-weight: bold; line-height: 1; border-radius: 0.35em; text-transform: uppercase; vertical-align: middle; margin-left: 0.5rem\">CARDINAL</span>\n",
       "</mark>\n",
       " of its units, which has resulted in flaring,&quot; she said.&quot;No injuries have been reported and the relevant authorities have been notified,&quot; she said, adding that the rest of the site\\'s operations had not been affected.', 'It was not immediately clear which unit was down.', 'The spokeswoman declined to provide details of the unit citing commercial confidentiality reasons.', 'The \n",
       "<mark class=\"entity\" style=\"background: #7aecec; padding: 0.45em 0.6em; margin: 0 0.25em; line-height: 1; border-radius: 0.35em; box-decoration-break: clone; -webkit-box-decoration-break: clone\">\n",
       "    Pulau Bukom\n",
       "    <span style=\"font-size: 0.8em; font-weight: bold; line-height: 1; border-radius: 0.35em; text-transform: uppercase; vertical-align: middle; margin-left: 0.5rem\">ORG</span>\n",
       "</mark>\n",
       " manufacturing site is an integrated refinery and chemicals site and can process \n",
       "<mark class=\"entity\" style=\"background: #e4e7d2; padding: 0.45em 0.6em; margin: 0 0.25em; line-height: 1; border-radius: 0.35em; box-decoration-break: clone; -webkit-box-decoration-break: clone\">\n",
       "    up to 500,000 barrels\n",
       "    <span style=\"font-size: 0.8em; font-weight: bold; line-height: 1; border-radius: 0.35em; text-transform: uppercase; vertical-align: middle; margin-left: 0.5rem\">QUANTITY</span>\n",
       "</mark>\n",
       " per day of oil.', &quot;\n",
       "<mark class=\"entity\" style=\"background: #aa9cfc; padding: 0.45em 0.6em; margin: 0 0.25em; line-height: 1; border-radius: 0.35em; box-decoration-break: clone; -webkit-box-decoration-break: clone\">\n",
       "    Bukom\n",
       "    <span style=\"font-size: 0.8em; font-weight: bold; line-height: 1; border-radius: 0.35em; text-transform: uppercase; vertical-align: middle; margin-left: 0.5rem\">PERSON</span>\n",
       "</mark>\n",
       " is \n",
       "<mark class=\"entity\" style=\"background: #7aecec; padding: 0.45em 0.6em; margin: 0 0.25em; line-height: 1; border-radius: 0.35em; box-decoration-break: clone; -webkit-box-decoration-break: clone\">\n",
       "    Shell\n",
       "    <span style=\"font-size: 0.8em; font-weight: bold; line-height: 1; border-radius: 0.35em; text-transform: uppercase; vertical-align: middle; margin-left: 0.5rem\">ORG</span>\n",
       "</mark>\n",
       "'s largest wholly-owned refinery globally in terms of crude distillation capacity, according to the company website.&quot;, 'Typically, any unexpected outage at the refinery boosts margins for \n",
       "<mark class=\"entity\" style=\"background: #c887fb; padding: 0.45em 0.6em; margin: 0 0.25em; line-height: 1; border-radius: 0.35em; box-decoration-break: clone; -webkit-box-decoration-break: clone\">\n",
       "    Asian\n",
       "    <span style=\"font-size: 0.8em; font-weight: bold; line-height: 1; border-radius: 0.35em; text-transform: uppercase; vertical-align: middle; margin-left: 0.5rem\">NORP</span>\n",
       "</mark>\n",
       " oil products.', '\n",
       "<mark class=\"entity\" style=\"background: #7aecec; padding: 0.45em 0.6em; margin: 0 0.25em; line-height: 1; border-radius: 0.35em; box-decoration-break: clone; -webkit-box-decoration-break: clone\">\n",
       "    REUTERSSPH Digital News\n",
       "    <span style=\"font-size: 0.8em; font-weight: bold; line-height: 1; border-radius: 0.35em; text-transform: uppercase; vertical-align: middle; margin-left: 0.5rem\">ORG</span>\n",
       "</mark>\n",
       "© \n",
       "<mark class=\"entity\" style=\"background: #bfe1d9; padding: 0.45em 0.6em; margin: 0 0.25em; line-height: 1; border-radius: 0.35em; box-decoration-break: clone; -webkit-box-decoration-break: clone\">\n",
       "    2019\n",
       "    <span style=\"font-size: 0.8em; font-weight: bold; line-height: 1; border-radius: 0.35em; text-transform: uppercase; vertical-align: middle; margin-left: 0.5rem\">DATE</span>\n",
       "</mark>\n",
       " \n",
       "<mark class=\"entity\" style=\"background: #7aecec; padding: 0.45em 0.6em; margin: 0 0.25em; line-height: 1; border-radius: 0.35em; box-decoration-break: clone; -webkit-box-decoration-break: clone\">\n",
       "    SINGAPORE PRESS HOLDINGS LTD\n",
       "    <span style=\"font-size: 0.8em; font-weight: bold; line-height: 1; border-radius: 0.35em; text-transform: uppercase; vertical-align: middle; margin-left: 0.5rem\">ORG</span>\n",
       "</mark>\n",
       ".', 'REGN', 'NO.', '198402668E']</div>"
      ],
      "text/plain": [
       "<IPython.core.display.HTML object>"
      ]
     },
     "metadata": {},
     "output_type": "display_data"
    }
   ],
   "source": [
    "displacy.render(spacy_nlp(str(sentences[:13])), jupyter=True, style='ent')"
   ]
  },
  {
   "cell_type": "markdown",
   "metadata": {},
   "source": [
    "### Named-entity recognition (NER) stats for all documents\n",
    "- convert all rows of dataframe into a string that is passed into Spacy\n",
    "- Named-entity recognition category counter, i.e. how many companies, countries, dates etc were mentioned\n",
    "- Named-entity recognition counter (before and after applying lemmatiser and stopword removal)"
   ]
  },
  {
   "cell_type": "code",
   "execution_count": 48,
   "metadata": {},
   "outputs": [],
   "source": [
    "whole = spacy_nlp(df.content.str.cat(sep=' '))"
   ]
  },
  {
   "cell_type": "code",
   "execution_count": 49,
   "metadata": {},
   "outputs": [
    {
     "data": {
      "text/plain": [
       "Counter({'Countries, cities, states': 370,\n",
       "         'Companies, agencies, institutions, etc.': 1121,\n",
       "         'Absolute or relative dates or periods': 674,\n",
       "         'Times smaller than a day': 16,\n",
       "         'Numerals that do not fall under another type': 253,\n",
       "         'Measurements, as of weight or distance': 90,\n",
       "         'People, including fictional': 259,\n",
       "         'Nationalities or religious or political groups': 110,\n",
       "         'Objects, vehicles, foods, etc. (not services)': 32,\n",
       "         'Non-GPE locations, mountain ranges, bodies of water': 97,\n",
       "         'Monetary values, including unit': 235,\n",
       "         '\"first\", \"second\", etc.': 67,\n",
       "         'Buildings, airports, highways, bridges, etc.': 28,\n",
       "         'Percentage, including \"%\"': 12,\n",
       "         'Named documents made into laws.': 6,\n",
       "         'Named hurricanes, battles, wars, sports events, etc.': 1})"
      ]
     },
     "execution_count": 49,
     "metadata": {},
     "output_type": "execute_result"
    }
   ],
   "source": [
    "labels = [spacy.explain(x.label_) for x in whole.ents]\n",
    "Counter(labels)"
   ]
  },
  {
   "cell_type": "code",
   "execution_count": 50,
   "metadata": {},
   "outputs": [
    {
     "data": {
      "text/plain": [
       "[('Shell', 254),\n",
       " ('2019', 86),\n",
       " ('SINGAPORE PRESS HOLDINGS LTD', 80),\n",
       " ('LNG', 56),\n",
       " ('first', 48),\n",
       " ('Singapore', 45),\n",
       " ('Digital News', 35),\n",
       " ('two', 34),\n",
       " ('Tuesday', 33),\n",
       " ('REUTERSSPH Digital News', 28)]"
      ]
     },
     "execution_count": 50,
     "metadata": {},
     "output_type": "execute_result"
    }
   ],
   "source": [
    "items = [x.text for x in whole.ents]\n",
    "Counter(items).most_common(10)"
   ]
  },
  {
   "cell_type": "code",
   "execution_count": 51,
   "metadata": {},
   "outputs": [
    {
     "data": {
      "text/plain": [
       "[('Shell', 352),\n",
       " ('say', 283),\n",
       " ('year', 181),\n",
       " ('oil', 180),\n",
       " ('company', 152),\n",
       " ('gas', 137),\n",
       " ('project', 115),\n",
       " ('us$', 114),\n",
       " ('billion', 107),\n",
       " ('cent', 107)]"
      ]
     },
     "execution_count": 51,
     "metadata": {},
     "output_type": "execute_result"
    }
   ],
   "source": [
    "words = [token.lemma_ for token in whole.doc if token.is_stop != True and token.is_punct != True]\n",
    "Counter(words).most_common(10)"
   ]
  },
  {
   "cell_type": "markdown",
   "metadata": {},
   "source": [
    "## Apply Spacy pipeline to whole DF + calculate sentiment\n",
    "- apply lemmatiser and stopword removal\n",
    "- convert Spacy object back to string so sentiment algorithsm can be run\n",
    "- apply sentiment algorithms, two out of the box (TextBlob and NLTK) and\n",
    " and our proprietary one"
   ]
  },
  {
   "cell_type": "code",
   "execution_count": 52,
   "metadata": {},
   "outputs": [
    {
     "name": "stdout",
     "output_type": "stream",
     "text": [
      "CPU times: user 4.8 s, sys: 338 ms, total: 5.13 s\n",
      "Wall time: 5.15 s\n"
     ]
    },
    {
     "data": {
      "text/html": [
       "<div>\n",
       "<style scoped>\n",
       "    .dataframe tbody tr th:only-of-type {\n",
       "        vertical-align: middle;\n",
       "    }\n",
       "\n",
       "    .dataframe tbody tr th {\n",
       "        vertical-align: top;\n",
       "    }\n",
       "\n",
       "    .dataframe thead th {\n",
       "        text-align: right;\n",
       "    }\n",
       "</style>\n",
       "<table border=\"1\" class=\"dataframe\">\n",
       "  <thead>\n",
       "    <tr style=\"text-align: right;\">\n",
       "      <th></th>\n",
       "      <th>content</th>\n",
       "      <th>spacy_tokens</th>\n",
       "      <th>spacy_processed</th>\n",
       "      <th>spacy_string</th>\n",
       "      <th>TextBlob_spacy</th>\n",
       "      <th>NLTK_spacy</th>\n",
       "      <th>Proprietary_spacy</th>\n",
       "    </tr>\n",
       "  </thead>\n",
       "  <tbody>\n",
       "    <tr>\n",
       "      <th>2019-07-16</th>\n",
       "      <td>[SINGAPORE] A unit at Royal Dutch Shell's Pulau Bukom refinery and petrochemical complex experienced an op...</td>\n",
       "      <td>([, SINGAPORE, ], A, unit, at, Royal, Dutch, Shell, 's, Pulau, Bukom, refinery, and, petrochemical, comple...</td>\n",
       "      <td>[[, SINGAPORE, ], unit, Royal, Dutch, Shell, Pulau, Bukom, refinery, petrochemical, complex, experience, o...</td>\n",
       "      <td>[ SINGAPORE ] unit Royal Dutch Shell Pulau Bukom refinery petrochemical complex experience operational ups...</td>\n",
       "      <td>0.001</td>\n",
       "      <td>-0.727</td>\n",
       "      <td>-0.714</td>\n",
       "    </tr>\n",
       "    <tr>\n",
       "      <th>2019-06-13</th>\n",
       "      <td>MelbourneROYAL Dutch Shell on Monday shipped the long-awaited first cargo of liquefied natural gas (LNG) f...</td>\n",
       "      <td>(MelbourneROYAL, Dutch, Shell, on, Monday, shipped, the, long, -, awaited, first, cargo, of, liquefied, na...</td>\n",
       "      <td>[MelbourneROYAL, Dutch, Shell, Monday, ship, long, -, await, cargo, liquefy, natural, gas, (, LNG, ), mass...</td>\n",
       "      <td>MelbourneROYAL Dutch Shell Monday ship long - await cargo liquefy natural gas ( LNG ) massive Prelude floa...</td>\n",
       "      <td>0.055</td>\n",
       "      <td>0.599</td>\n",
       "      <td>-0.400</td>\n",
       "    </tr>\n",
       "    <tr>\n",
       "      <th>2019-06-09</th>\n",
       "      <td>SingaporeSHELL has increased the storage capacity at its Singapore Bukom refinery by nearly 1.3 million ba...</td>\n",
       "      <td>(SingaporeSHELL, has, increased, the, storage, capacity, at, its, Singapore, Bukom, refinery, by, nearly, ...</td>\n",
       "      <td>[SingaporeSHELL, increase, storage, capacity, Singapore, Bukom, refinery, nearly, 1.3, million, barrel, bu...</td>\n",
       "      <td>SingaporeSHELL increase storage capacity Singapore Bukom refinery nearly 1.3 million barrel build large cr...</td>\n",
       "      <td>0.079</td>\n",
       "      <td>0.852</td>\n",
       "      <td>1.000</td>\n",
       "    </tr>\n",
       "    <tr>\n",
       "      <th>2019-06-08</th>\n",
       "      <td>SHELL said on Thursday night that it has increased the storage capacity at its Singapore Bukom refinery by...</td>\n",
       "      <td>(SHELL, said, on, Thursday, night, that, it, has, increased, the, storage, capacity, at, its, Singapore, B...</td>\n",
       "      <td>[SHELL, say, Thursday, night, increase, storage, capacity, Singapore, Bukom, refinery, nearly, 1.3, millio...</td>\n",
       "      <td>SHELL say Thursday night increase storage capacity Singapore Bukom refinery nearly 1.3 million barrel buil...</td>\n",
       "      <td>0.142</td>\n",
       "      <td>0.977</td>\n",
       "      <td>0.800</td>\n",
       "    </tr>\n",
       "    <tr>\n",
       "      <th>2019-05-30</th>\n",
       "      <td>SingaporeSINGAPORE'S Energy Market Authority (EMA) on Tuesday said it is partnering PSA Singapore and Shel...</td>\n",
       "      <td>(SingaporeSINGAPORE, 'S, Energy, Market, Authority, (, EMA, ), on, Tuesday, said, it, is, partnering, PSA,...</td>\n",
       "      <td>[SingaporeSINGAPORE, Energy, Market, Authority, (, EMA, ), Tuesday, say, partner, PSA, Singapore, Shell, p...</td>\n",
       "      <td>SingaporeSINGAPORE Energy Market Authority ( EMA ) Tuesday say partner PSA Singapore Shell partnership amo...</td>\n",
       "      <td>0.000</td>\n",
       "      <td>0.852</td>\n",
       "      <td>0.000</td>\n",
       "    </tr>\n",
       "  </tbody>\n",
       "</table>\n",
       "</div>"
      ],
      "text/plain": [
       "                                                                                                                  content  \\\n",
       "2019-07-16  [SINGAPORE] A unit at Royal Dutch Shell's Pulau Bukom refinery and petrochemical complex experienced an op...   \n",
       "2019-06-13  MelbourneROYAL Dutch Shell on Monday shipped the long-awaited first cargo of liquefied natural gas (LNG) f...   \n",
       "2019-06-09  SingaporeSHELL has increased the storage capacity at its Singapore Bukom refinery by nearly 1.3 million ba...   \n",
       "2019-06-08  SHELL said on Thursday night that it has increased the storage capacity at its Singapore Bukom refinery by...   \n",
       "2019-05-30  SingaporeSINGAPORE'S Energy Market Authority (EMA) on Tuesday said it is partnering PSA Singapore and Shel...   \n",
       "\n",
       "                                                                                                             spacy_tokens  \\\n",
       "2019-07-16  ([, SINGAPORE, ], A, unit, at, Royal, Dutch, Shell, 's, Pulau, Bukom, refinery, and, petrochemical, comple...   \n",
       "2019-06-13  (MelbourneROYAL, Dutch, Shell, on, Monday, shipped, the, long, -, awaited, first, cargo, of, liquefied, na...   \n",
       "2019-06-09  (SingaporeSHELL, has, increased, the, storage, capacity, at, its, Singapore, Bukom, refinery, by, nearly, ...   \n",
       "2019-06-08  (SHELL, said, on, Thursday, night, that, it, has, increased, the, storage, capacity, at, its, Singapore, B...   \n",
       "2019-05-30  (SingaporeSINGAPORE, 'S, Energy, Market, Authority, (, EMA, ), on, Tuesday, said, it, is, partnering, PSA,...   \n",
       "\n",
       "                                                                                                          spacy_processed  \\\n",
       "2019-07-16  [[, SINGAPORE, ], unit, Royal, Dutch, Shell, Pulau, Bukom, refinery, petrochemical, complex, experience, o...   \n",
       "2019-06-13  [MelbourneROYAL, Dutch, Shell, Monday, ship, long, -, await, cargo, liquefy, natural, gas, (, LNG, ), mass...   \n",
       "2019-06-09  [SingaporeSHELL, increase, storage, capacity, Singapore, Bukom, refinery, nearly, 1.3, million, barrel, bu...   \n",
       "2019-06-08  [SHELL, say, Thursday, night, increase, storage, capacity, Singapore, Bukom, refinery, nearly, 1.3, millio...   \n",
       "2019-05-30  [SingaporeSINGAPORE, Energy, Market, Authority, (, EMA, ), Tuesday, say, partner, PSA, Singapore, Shell, p...   \n",
       "\n",
       "                                                                                                             spacy_string  \\\n",
       "2019-07-16  [ SINGAPORE ] unit Royal Dutch Shell Pulau Bukom refinery petrochemical complex experience operational ups...   \n",
       "2019-06-13  MelbourneROYAL Dutch Shell Monday ship long - await cargo liquefy natural gas ( LNG ) massive Prelude floa...   \n",
       "2019-06-09  SingaporeSHELL increase storage capacity Singapore Bukom refinery nearly 1.3 million barrel build large cr...   \n",
       "2019-06-08  SHELL say Thursday night increase storage capacity Singapore Bukom refinery nearly 1.3 million barrel buil...   \n",
       "2019-05-30  SingaporeSINGAPORE Energy Market Authority ( EMA ) Tuesday say partner PSA Singapore Shell partnership amo...   \n",
       "\n",
       "            TextBlob_spacy  NLTK_spacy  Proprietary_spacy  \n",
       "2019-07-16           0.001      -0.727             -0.714  \n",
       "2019-06-13           0.055       0.599             -0.400  \n",
       "2019-06-09           0.079       0.852              1.000  \n",
       "2019-06-08           0.142       0.977              0.800  \n",
       "2019-05-30           0.000       0.852              0.000  "
      ]
     },
     "execution_count": 52,
     "metadata": {},
     "output_type": "execute_result"
    }
   ],
   "source": [
    "%%time\n",
    "\n",
    "df['spacy_tokens'] = df['content'].apply(spacy_nlp)\n",
    "\n",
    "\n",
    "def spacy_lemma_stopwords(text):\n",
    "    \"\"\"remove stopwords and lemmatise all spacy tokens\"\"\"\n",
    "    return [token.lemma_ for token in text if not token.is_stop]\n",
    "\n",
    "spacy_process = lambda x: spacy_lemma_stopwords(x)\n",
    "df[\"spacy_processed\"] = df.spacy_tokens.apply(spacy_process)\n",
    "\n",
    "\n",
    "def spacy_to_string(text):\n",
    "    \"\"\"convert lemmatised Spacy tokens back to string\"\"\"\n",
    "    return ' '.join(text)\n",
    "\n",
    "\n",
    "spacy_to_str = lambda x: spacy_to_string(x)\n",
    "df[\"spacy_string\"] = df.spacy_processed.apply(spacy_to_str)\n",
    "\n",
    "# Apply sentiment algorithms\n",
    "\n",
    "TB = lambda x: round(TextBlob(x).sentiment.polarity, 3)\n",
    "NLTK = lambda x: round(sia.polarity_scores(x)['compound'], 3)\n",
    "MD_proprietary = lambda x: round(proprietary_sentiment_normalised(lexicon, x), 3)\n",
    "\n",
    "df['TextBlob_spacy'] = df.spacy_string.apply(TB)\n",
    "df['NLTK_spacy'] = df.spacy_string.apply(NLTK)\n",
    "df['Proprietary_spacy'] = df.spacy_string.apply(MD_proprietary)\n",
    "\n",
    "df.head()"
   ]
  },
  {
   "cell_type": "markdown",
   "metadata": {},
   "source": [
    "### Sentiment visualisation over time"
   ]
  },
  {
   "cell_type": "code",
   "execution_count": 378,
   "metadata": {},
   "outputs": [
    {
     "data": {
      "image/png": "[encoded data removed]",
      "text/plain": [
       "<Figure size 1152x576 with 1 Axes>"
      ]
     },
     "metadata": {},
     "output_type": "display_data"
    }
   ],
   "source": [
    "ax = df.Proprietary_spacy.plot.bar(figsize=(16, 8), color='r')\n",
    "ax.invert_xaxis()\n",
    "plt.title(\"Proprietary sentiment algorithm since 2017\", fontsize=19)\n",
    "sns.despine(left=True)"
   ]
  },
  {
   "cell_type": "code",
   "execution_count": 379,
   "metadata": {},
   "outputs": [
    {
     "data": {
      "image/png": "[encoded data removed]",
      "text/plain": [
       "<Figure size 1152x576 with 1 Axes>"
      ]
     },
     "metadata": {},
     "output_type": "display_data"
    }
   ],
   "source": [
    "ax = df.NLTK_spacy.plot.bar(figsize=(16, 8), color='b')\n",
    "ax.invert_xaxis()\n",
    "plt.title(\"NLTK sentiment algorithm since 2017\", fontsize=19)\n",
    "sns.despine(left=True)"
   ]
  },
  {
   "cell_type": "code",
   "execution_count": 380,
   "metadata": {},
   "outputs": [
    {
     "data": {
      "image/png": "[encoded data removed]",
      "text/plain": [
       "<Figure size 1152x576 with 1 Axes>"
      ]
     },
     "metadata": {},
     "output_type": "display_data"
    }
   ],
   "source": [
    "ax = df.TextBlob_spacy.plot.bar(figsize=(16, 8), color='g')\n",
    "ax.invert_xaxis()\n",
    "plt.title(\"TextBlob sentiment algorithm since 2017\", fontsize=19)\n",
    "sns.despine(left=True)"
   ]
  },
  {
   "cell_type": "markdown",
   "metadata": {},
   "source": [
    "### Sentiment categories, histograms and distributions\n",
    "- turning numeric scores into categories - \"positive\", \"neutral\" and \"negative\"\n",
    "- for my own sentiment algorithm (\"proprietary\") I also created five categories, including \"very positive\" and \"very negative\"\n",
    "- visualising both numeric scores and categories"
   ]
  },
  {
   "cell_type": "code",
   "execution_count": 299,
   "metadata": {},
   "outputs": [],
   "source": [
    "positive_bound = 0.4\n",
    "negative_bound = -0.4"
   ]
  },
  {
   "cell_type": "code",
   "execution_count": 381,
   "metadata": {},
   "outputs": [
    {
     "data": {
      "image/png": "[encoded data removed]",
      "text/plain": [
       "<Figure size 648x360 with 1 Axes>"
      ]
     },
     "metadata": {},
     "output_type": "display_data"
    }
   ],
   "source": [
    "df['senti_category_prop_3'] = \\\n",
    "   ['positive' if x > positive_bound else 'negative' if x < negative_bound else 'neutral' \\\n",
    "    for x in df['Proprietary_spacy']]\n",
    "\n",
    "df.senti_category_prop_3.value_counts().plot.bar(figsize=(9,5), color='r')\n",
    "sns.despine(left=True)\n",
    "plt.show()"
   ]
  },
  {
   "cell_type": "code",
   "execution_count": 382,
   "metadata": {},
   "outputs": [
    {
     "data": {
      "image/png": "[encoded data removed]",
      "text/plain": [
       "<Figure size 648x360 with 1 Axes>"
      ]
     },
     "metadata": {},
     "output_type": "display_data"
    }
   ],
   "source": [
    "df['senti_category_TB'] = \\\n",
    "   ['positive' if x > positive_bound else 'negative' if x < negative_bound else 'neutral' \\\n",
    "    for x in df['TextBlob_spacy']]\n",
    "df.senti_category_TB.value_counts().plot.bar(figsize=(9,5), color='g')\n",
    "sns.despine(left=True)\n",
    "plt.show()"
   ]
  },
  {
   "cell_type": "code",
   "execution_count": 383,
   "metadata": {},
   "outputs": [
    {
     "data": {
      "image/png": "[encoded data removed]",
      "text/plain": [
       "<Figure size 648x360 with 1 Axes>"
      ]
     },
     "metadata": {},
     "output_type": "display_data"
    }
   ],
   "source": [
    "df['senti_category_NLTK'] = \\\n",
    "   ['positive' if x > positive_bound else 'negative' if x < negative_bound else 'neutral' \\\n",
    "    for x in df['NLTK_spacy']]\n",
    "df.senti_category_NLTK.value_counts().plot.bar(figsize=(9,5), color='b')\n",
    "sns.despine(left=True)\n",
    "plt.show()"
   ]
  },
  {
   "cell_type": "markdown",
   "metadata": {},
   "source": [
    "#### This is the same proprietary algorithm as above but with five categories"
   ]
  },
  {
   "cell_type": "code",
   "execution_count": 384,
   "metadata": {},
   "outputs": [
    {
     "data": {
      "image/png": "[encoded data removed]",
      "text/plain": [
       "<Figure size 648x360 with 1 Axes>"
      ]
     },
     "metadata": {},
     "output_type": "display_data"
    }
   ],
   "source": [
    "df['senti_category_prop_5'] = \\\n",
    "   ['very positive' if x > 0.75 else 'positive' if x > 0.25 \\\n",
    "    else 'very negative' if x < -0.75 else 'negative' if x < -0.25 else 'neutral' \\\n",
    "    for x in df['Proprietary_spacy']]\n",
    "\n",
    "df.senti_category_prop_5.value_counts().plot.bar(figsize=(9,5), color='r')\n",
    "sns.despine(left=True)\n",
    "plt.show()"
   ]
  },
  {
   "cell_type": "markdown",
   "metadata": {},
   "source": [
    "#### This is a histogram of the proprietary algorithm's numeric scores with 15 bins"
   ]
  },
  {
   "cell_type": "code",
   "execution_count": 385,
   "metadata": {},
   "outputs": [
    {
     "data": {
      "image/png": "[encoded data removed]",
      "text/plain": [
       "<Figure size 864x504 with 1 Axes>"
      ]
     },
     "metadata": {},
     "output_type": "display_data"
    }
   ],
   "source": [
    "sns.set(style=\"white\", palette=\"muted\", color_codes=True)\n",
    "\n",
    "plt.figure(figsize=(12,7))\n",
    "ax = sns.distplot(df.Proprietary_spacy, bins=15, kde=False, color='r')\n",
    "ax.set_xlim(-1,1)\n",
    "sns.despine(left=True)"
   ]
  },
  {
   "cell_type": "markdown",
   "metadata": {},
   "source": [
    "#### These two charts show the distribution of all three sentiment algorithms\n",
    "- first is a histogram with discrete values (different bin sizes)\n",
    "- and second transformed into a continuous probability density function (PDF)"
   ]
  },
  {
   "cell_type": "code",
   "execution_count": 290,
   "metadata": {},
   "outputs": [
    {
     "data": {
      "image/png": "[encoded data removed]",
      "text/plain": [
       "<Figure size 864x504 with 1 Axes>"
      ]
     },
     "metadata": {},
     "output_type": "display_data"
    }
   ],
   "source": [
    "sns.set(style=\"white\", palette=\"muted\", color_codes=True)\n",
    "\n",
    "plt.figure(figsize=(12,7))\n",
    "ax = sns.distplot(df.NLTK_spacy, bins=30, kde=False)\n",
    "ax2 = sns.distplot(df.Proprietary_spacy, bins=10, kde=False)\n",
    "ax2 = sns.distplot(df.TextBlob_spacy, bins=10, kde=False)\n",
    "ax.set_xlim(-1,1)\n",
    "sns.despine()"
   ]
  },
  {
   "cell_type": "code",
   "execution_count": 291,
   "metadata": {},
   "outputs": [
    {
     "data": {
      "image/png": "[encoded data removed]",
      "text/plain": [
       "<Figure size 864x504 with 1 Axes>"
      ]
     },
     "metadata": {},
     "output_type": "display_data"
    }
   ],
   "source": [
    "sns.set(style=\"white\", palette=\"muted\", color_codes=True)\n",
    "\n",
    "plt.figure(figsize=(12,7))\n",
    "ax = sns.kdeplot(df.NLTK_spacy)\n",
    "ax2 = sns.kdeplot(df.Proprietary_spacy)\n",
    "ax2 = sns.kdeplot(df.TextBlob_spacy)\n",
    "\n",
    "sns.despine()"
   ]
  },
  {
   "cell_type": "markdown",
   "metadata": {},
   "source": [
    "## Checking sentiment score accuracy with manual labels"
   ]
  },
  {
   "cell_type": "code",
   "execution_count": 292,
   "metadata": {},
   "outputs": [],
   "source": [
    "df['sentiment_label'] = df['Proprietary_spacy'].astype(str)"
   ]
  },
  {
   "cell_type": "code",
   "execution_count": 293,
   "metadata": {},
   "outputs": [
    {
     "name": "stdout",
     "output_type": "stream",
     "text": [
      "(\"[SINGAPORE] A unit at Royal Dutch Shell's Pulau Bukom refinery and \"\n",
      " 'petrochemical complex experienced an operational upset on Sunday, a company '\n",
      " 'spokeswoman told Reuters on Monday.\"On July 14 at approximately 2pm, the '\n",
      " 'Pulau Bukom manufacturing site experienced an operational upset at one of '\n",
      " 'its units, which has resulted in flaring,\" she said.\"No injuries have been '\n",
      " 'reported and the relevant authorities have been notified,\" she said, adding '\n",
      " \"that the rest of the site's operations had not been affected.It was not \"\n",
      " 'immediately clear which unit was down. The spokeswoman declined to provide '\n",
      " 'details of the unit citing commercial confidentiality reasons.The Pulau '\n",
      " 'Bukom manufacturing site is an integrated refinery and chemicals site and '\n",
      " \"can process up to 500,000 barrels per day of oil.Bukom is Shell's largest \"\n",
      " 'wholly-owned refinery globally in terms of crude distillation capacity, '\n",
      " 'according to the company website.Typically, any unexpected outage at the '\n",
      " 'refinery boosts margins for Asian oil products.REUTERSSPH Digital News© 2019 '\n",
      " 'SINGAPORE PRESS HOLDINGS LTD. REGN NO. 198402668E ')\n"
     ]
    }
   ],
   "source": [
    "article_count = 0\n",
    "pprint.pprint(df.content[article_count])"
   ]
  },
  {
   "cell_type": "code",
   "execution_count": 295,
   "metadata": {},
   "outputs": [
    {
     "name": "stdout",
     "output_type": "stream",
     "text": [
      "Classify sentiment: (negative, neutral, positive): \n",
      "negative\n",
      "Manual label:                      negative\n",
      "Sentiment category (proprietary):  negative\n",
      "Sentiment category (NLTK):         negative\n"
     ]
    }
   ],
   "source": [
    "classifier = input(\"Classify sentiment: (negative, neutral, positive): \\n\")\n",
    "\n",
    "df.iat[article_count, 11] = classifier\n",
    "\n",
    "print(\"Manual label:                     \", df.iloc[article_count]['sentiment_label'])\n",
    "print(\"Sentiment category (proprietary): \", df.iloc[article_count]['senti_category_prop_3'])\n",
    "print(\"Sentiment category (NLTK):        \", df.iloc[article_count]['senti_category_NLTK'])"
   ]
  },
  {
   "cell_type": "code",
   "execution_count": 386,
   "metadata": {},
   "outputs": [
    {
     "data": {
      "image/png": "[encoded data removed]",
      "text/plain": [
       "<Figure size 648x360 with 1 Axes>"
      ]
     },
     "metadata": {},
     "output_type": "display_data"
    }
   ],
   "source": [
    "df.sentiment_label.value_counts().plot.bar(figsize=(9,5), color='k')\n",
    "sns.despine(left=True)\n",
    "plt.show()"
   ]
  },
  {
   "cell_type": "code",
   "execution_count": 253,
   "metadata": {},
   "outputs": [],
   "source": [
    "f = open('data/df_senti_labelled.pkl', 'wb')\n",
    "pickle.dump(df, f)\n",
    "f.close()"
   ]
  },
  {
   "cell_type": "code",
   "execution_count": 297,
   "metadata": {},
   "outputs": [],
   "source": [
    "#f = open('data/df_senti_labelled.pkl', 'rb')\n",
    "#df = pickle.load(f)\n",
    "#f.close()"
   ]
  },
  {
   "cell_type": "markdown",
   "metadata": {},
   "source": [
    "### Check how manual sentiment labels compare to algorithms"
   ]
  },
  {
   "cell_type": "code",
   "execution_count": 304,
   "metadata": {},
   "outputs": [],
   "source": [
    "df['senti_score_prop_label'] = df.apply(lambda x: x['senti_category_prop_3'] == x['sentiment_label'], axis=1)\n",
    "df['senti_score_NLTK_label'] = df.apply(lambda x: x['senti_category_NLTK'] == x['sentiment_label'], axis=1)\n",
    "df['senti_score_TB_label'] = df.apply(lambda x: x['senti_category_TB'] == x['sentiment_label'], axis=1)"
   ]
  },
  {
   "cell_type": "code",
   "execution_count": 305,
   "metadata": {},
   "outputs": [
    {
     "data": {
      "text/plain": [
       "True     51\n",
       "False    22\n",
       "Name: senti_score_prop_label, dtype: int64"
      ]
     },
     "execution_count": 305,
     "metadata": {},
     "output_type": "execute_result"
    }
   ],
   "source": [
    "df.senti_score_prop_label.value_counts()"
   ]
  },
  {
   "cell_type": "code",
   "execution_count": 306,
   "metadata": {},
   "outputs": [
    {
     "data": {
      "text/plain": [
       "False    46\n",
       "True     27\n",
       "Name: senti_score_NLTK_label, dtype: int64"
      ]
     },
     "execution_count": 306,
     "metadata": {},
     "output_type": "execute_result"
    }
   ],
   "source": [
    "df.senti_score_NLTK_label.value_counts()"
   ]
  },
  {
   "cell_type": "code",
   "execution_count": 307,
   "metadata": {},
   "outputs": [
    {
     "data": {
      "text/plain": [
       "True     42\n",
       "False    31\n",
       "Name: senti_score_TB_label, dtype: int64"
      ]
     },
     "execution_count": 307,
     "metadata": {},
     "output_type": "execute_result"
    }
   ],
   "source": [
    "df.senti_score_TB_label.value_counts()"
   ]
  },
  {
   "cell_type": "code",
   "execution_count": 387,
   "metadata": {},
   "outputs": [
    {
     "data": {
      "image/png": "[encoded data removed]",
      "text/plain": [
       "<Figure size 648x504 with 1 Axes>"
      ]
     },
     "metadata": {},
     "output_type": "display_data"
    }
   ],
   "source": [
    "sns.set(style=\"white\", palette=\"muted\", color_codes=True)\n",
    "\n",
    "accuracy_df = pd.DataFrame({'accuracy': [51/73*100, 27/73*100, 42/73*100]},\n",
    "                        index=['Proprietary', 'NLTK', 'TextBlob'])\n",
    "ax = accuracy_df.plot.bar(y='accuracy', figsize=(9, 7), legend=False, color='y')\n",
    "ax.set_xticklabels(ax.get_xticklabels(),rotation=70, fontsize=14)\n",
    "plt.title(\"Comparison of sentiment algorithm accuracy, %\", fontsize=18)\n",
    "sns.despine(left=True)"
   ]
  },
  {
   "cell_type": "code",
   "execution_count": 388,
   "metadata": {},
   "outputs": [],
   "source": [
    "f = open('data/df_senti_labelled.pkl', 'wb')\n",
    "pickle.dump(df, f)\n",
    "f.close()"
   ]
  }
 ],
 "metadata": {
  "kernelspec": {
   "display_name": "Python 3",
   "language": "python",
   "name": "python3"
  },
  "language_info": {
   "codemirror_mode": {
    "name": "ipython",
    "version": 3
   },
   "file_extension": ".py",
   "mimetype": "text/x-python",
   "name": "python",
   "nbconvert_exporter": "python",
   "pygments_lexer": "ipython3",
   "version": "3.6.8"
  },
  "latex_envs": {
   "LaTeX_envs_menu_present": true,
   "autoclose": false,
   "autocomplete": true,
   "bibliofile": "biblio.bib",
   "cite_by": "apalike",
   "current_citInitial": 1,
   "eqLabelWithNumbers": true,
   "eqNumInitial": 1,
   "hotkeys": {
    "equation": "Ctrl-E",
    "itemize": "Ctrl-I"
   },
   "labels_anchors": false,
   "latex_user_defs": false,
   "report_style_numbering": false,
   "user_envs_cfg": false
  }
 },
 "nbformat": 4,
 "nbformat_minor": 2
}
